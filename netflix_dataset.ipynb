{
 "cells": [
  {
   "cell_type": "code",
   "execution_count": 52,
   "metadata": {},
   "outputs": [],
   "source": [
    "import pandas as pd"
   ]
  },
  {
   "cell_type": "code",
   "execution_count": 120,
   "metadata": {},
   "outputs": [],
   "source": [
    "netflix_data = pd.read_csv('ViewingActivity.csv')"
   ]
  },
  {
   "cell_type": "code",
   "execution_count": 122,
   "metadata": {},
   "outputs": [
    {
     "name": "stdout",
     "output_type": "stream",
     "text": [
      "<class 'pandas.core.frame.DataFrame'>\n",
      "RangeIndex: 2543 entries, 0 to 2542\n",
      "Data columns (total 10 columns):\n",
      " #   Column                   Non-Null Count  Dtype \n",
      "---  ------                   --------------  ----- \n",
      " 0   Profile Name             2543 non-null   object\n",
      " 1   Start Time               2543 non-null   object\n",
      " 2   Duration                 2543 non-null   object\n",
      " 3   Attributes               975 non-null    object\n",
      " 4   Title                    2543 non-null   object\n",
      " 5   Supplemental Video Type  241 non-null    object\n",
      " 6   Device Type              2542 non-null   object\n",
      " 7   Bookmark                 2543 non-null   object\n",
      " 8   Latest Bookmark          2543 non-null   object\n",
      " 9   Country                  2543 non-null   object\n",
      "dtypes: object(10)\n",
      "memory usage: 198.8+ KB\n"
     ]
    }
   ],
   "source": [
    "netflix_data.info()"
   ]
  },
  {
   "cell_type": "code",
   "execution_count": 123,
   "metadata": {},
   "outputs": [
    {
     "data": {
      "text/plain": [
       "(2543, 10)"
      ]
     },
     "execution_count": 123,
     "metadata": {},
     "output_type": "execute_result"
    }
   ],
   "source": [
    "netflix_data.shape"
   ]
  },
  {
   "cell_type": "code",
   "execution_count": 124,
   "metadata": {},
   "outputs": [],
   "source": [
    "netflix_data = netflix_data.drop(['Profile Name','Attributes','Supplemental Video Type','Device Type','Bookmark','Latest Bookmark','Country'],axis=1)"
   ]
  },
  {
   "cell_type": "code",
   "execution_count": 125,
   "metadata": {},
   "outputs": [
    {
     "data": {
      "text/html": [
       "<div>\n",
       "<style scoped>\n",
       "    .dataframe tbody tr th:only-of-type {\n",
       "        vertical-align: middle;\n",
       "    }\n",
       "\n",
       "    .dataframe tbody tr th {\n",
       "        vertical-align: top;\n",
       "    }\n",
       "\n",
       "    .dataframe thead th {\n",
       "        text-align: right;\n",
       "    }\n",
       "</style>\n",
       "<table border=\"1\" class=\"dataframe\">\n",
       "  <thead>\n",
       "    <tr style=\"text-align: right;\">\n",
       "      <th></th>\n",
       "      <th>Start Time</th>\n",
       "      <th>Duration</th>\n",
       "      <th>Title</th>\n",
       "    </tr>\n",
       "  </thead>\n",
       "  <tbody>\n",
       "    <tr>\n",
       "      <th>0</th>\n",
       "      <td>2020-11-07 12:15:50</td>\n",
       "      <td>00:15:58</td>\n",
       "      <td>A Suitable Boy: Limited Series: Episode 1</td>\n",
       "    </tr>\n",
       "    <tr>\n",
       "      <th>1</th>\n",
       "      <td>2020-11-07 12:11:47</td>\n",
       "      <td>00:03:02</td>\n",
       "      <td>A Suitable Boy: Limited Series: Episode 1</td>\n",
       "    </tr>\n",
       "    <tr>\n",
       "      <th>2</th>\n",
       "      <td>2020-11-07 11:45:25</td>\n",
       "      <td>00:04:37</td>\n",
       "      <td>A Suitable Boy: Limited Series: Episode 1</td>\n",
       "    </tr>\n",
       "    <tr>\n",
       "      <th>3</th>\n",
       "      <td>2020-11-07 10:41:10</td>\n",
       "      <td>00:11:59</td>\n",
       "      <td>The 100: Season 7: Welcome to Bardo (Episode 5)</td>\n",
       "    </tr>\n",
       "    <tr>\n",
       "      <th>4</th>\n",
       "      <td>2020-11-07 10:38:27</td>\n",
       "      <td>00:02:35</td>\n",
       "      <td>The 100: Season 7: Hesperides (Episode 4)</td>\n",
       "    </tr>\n",
       "  </tbody>\n",
       "</table>\n",
       "</div>"
      ],
      "text/plain": [
       "            Start Time  Duration  \\\n",
       "0  2020-11-07 12:15:50  00:15:58   \n",
       "1  2020-11-07 12:11:47  00:03:02   \n",
       "2  2020-11-07 11:45:25  00:04:37   \n",
       "3  2020-11-07 10:41:10  00:11:59   \n",
       "4  2020-11-07 10:38:27  00:02:35   \n",
       "\n",
       "                                             Title  \n",
       "0        A Suitable Boy: Limited Series: Episode 1  \n",
       "1        A Suitable Boy: Limited Series: Episode 1  \n",
       "2        A Suitable Boy: Limited Series: Episode 1  \n",
       "3  The 100: Season 7: Welcome to Bardo (Episode 5)  \n",
       "4        The 100: Season 7: Hesperides (Episode 4)  "
      ]
     },
     "execution_count": 125,
     "metadata": {},
     "output_type": "execute_result"
    }
   ],
   "source": [
    "netflix_data.head()"
   ]
  },
  {
   "cell_type": "code",
   "execution_count": 126,
   "metadata": {},
   "outputs": [
    {
     "data": {
      "text/plain": [
       "Start Time    object\n",
       "Duration      object\n",
       "Title         object\n",
       "dtype: object"
      ]
     },
     "execution_count": 126,
     "metadata": {},
     "output_type": "execute_result"
    }
   ],
   "source": [
    "netflix_data.dtypes"
   ]
  },
  {
   "cell_type": "code",
   "execution_count": 127,
   "metadata": {},
   "outputs": [
    {
     "data": {
      "text/plain": [
       "Start Time    datetime64[ns, UTC]\n",
       "Duration                   object\n",
       "Title                      object\n",
       "dtype: object"
      ]
     },
     "execution_count": 127,
     "metadata": {},
     "output_type": "execute_result"
    }
   ],
   "source": [
    "netflix_data['Start Time'] = pd.to_datetime(netflix_data['Start Time'],utc=True)\n",
    "netflix_data.dtypes"
   ]
  },
  {
   "cell_type": "code",
   "execution_count": 128,
   "metadata": {},
   "outputs": [],
   "source": [
    "#change the start TIme column into the dataframe's index\n",
    "netflix_data = netflix_data.set_index('Start Time')\n",
    "\n",
    "#convert from utc timezone to eastern time(we can only use .tz_convert() on a DatetimeIndex)\n",
    "netflix_data.index = netflix_data.index.tz_convert('Asia/Calcutta')\n",
    "\n",
    "#reset the index so that start time becomes a column again\n",
    "netflix_data = netflix_data.reset_index()"
   ]
  },
  {
   "cell_type": "code",
   "execution_count": 129,
   "metadata": {},
   "outputs": [
    {
     "data": {
      "text/html": [
       "<div>\n",
       "<style scoped>\n",
       "    .dataframe tbody tr th:only-of-type {\n",
       "        vertical-align: middle;\n",
       "    }\n",
       "\n",
       "    .dataframe tbody tr th {\n",
       "        vertical-align: top;\n",
       "    }\n",
       "\n",
       "    .dataframe thead th {\n",
       "        text-align: right;\n",
       "    }\n",
       "</style>\n",
       "<table border=\"1\" class=\"dataframe\">\n",
       "  <thead>\n",
       "    <tr style=\"text-align: right;\">\n",
       "      <th></th>\n",
       "      <th>Start Time</th>\n",
       "      <th>Duration</th>\n",
       "      <th>Title</th>\n",
       "    </tr>\n",
       "  </thead>\n",
       "  <tbody>\n",
       "    <tr>\n",
       "      <th>0</th>\n",
       "      <td>2020-11-07 17:45:50+05:30</td>\n",
       "      <td>00:15:58</td>\n",
       "      <td>A Suitable Boy: Limited Series: Episode 1</td>\n",
       "    </tr>\n",
       "    <tr>\n",
       "      <th>1</th>\n",
       "      <td>2020-11-07 17:41:47+05:30</td>\n",
       "      <td>00:03:02</td>\n",
       "      <td>A Suitable Boy: Limited Series: Episode 1</td>\n",
       "    </tr>\n",
       "    <tr>\n",
       "      <th>2</th>\n",
       "      <td>2020-11-07 17:15:25+05:30</td>\n",
       "      <td>00:04:37</td>\n",
       "      <td>A Suitable Boy: Limited Series: Episode 1</td>\n",
       "    </tr>\n",
       "    <tr>\n",
       "      <th>3</th>\n",
       "      <td>2020-11-07 16:11:10+05:30</td>\n",
       "      <td>00:11:59</td>\n",
       "      <td>The 100: Season 7: Welcome to Bardo (Episode 5)</td>\n",
       "    </tr>\n",
       "    <tr>\n",
       "      <th>4</th>\n",
       "      <td>2020-11-07 16:08:27+05:30</td>\n",
       "      <td>00:02:35</td>\n",
       "      <td>The 100: Season 7: Hesperides (Episode 4)</td>\n",
       "    </tr>\n",
       "  </tbody>\n",
       "</table>\n",
       "</div>"
      ],
      "text/plain": [
       "                 Start Time  Duration  \\\n",
       "0 2020-11-07 17:45:50+05:30  00:15:58   \n",
       "1 2020-11-07 17:41:47+05:30  00:03:02   \n",
       "2 2020-11-07 17:15:25+05:30  00:04:37   \n",
       "3 2020-11-07 16:11:10+05:30  00:11:59   \n",
       "4 2020-11-07 16:08:27+05:30  00:02:35   \n",
       "\n",
       "                                             Title  \n",
       "0        A Suitable Boy: Limited Series: Episode 1  \n",
       "1        A Suitable Boy: Limited Series: Episode 1  \n",
       "2        A Suitable Boy: Limited Series: Episode 1  \n",
       "3  The 100: Season 7: Welcome to Bardo (Episode 5)  \n",
       "4        The 100: Season 7: Hesperides (Episode 4)  "
      ]
     },
     "execution_count": 129,
     "metadata": {},
     "output_type": "execute_result"
    }
   ],
   "source": [
    "netflix_data.head()"
   ]
  },
  {
   "cell_type": "code",
   "execution_count": 130,
   "metadata": {},
   "outputs": [
    {
     "data": {
      "text/html": [
       "<div>\n",
       "<style scoped>\n",
       "    .dataframe tbody tr th:only-of-type {\n",
       "        vertical-align: middle;\n",
       "    }\n",
       "\n",
       "    .dataframe tbody tr th {\n",
       "        vertical-align: top;\n",
       "    }\n",
       "\n",
       "    .dataframe thead th {\n",
       "        text-align: right;\n",
       "    }\n",
       "</style>\n",
       "<table border=\"1\" class=\"dataframe\">\n",
       "  <thead>\n",
       "    <tr style=\"text-align: right;\">\n",
       "      <th></th>\n",
       "      <th>Start Time</th>\n",
       "      <th>Duration</th>\n",
       "      <th>Title</th>\n",
       "    </tr>\n",
       "  </thead>\n",
       "  <tbody>\n",
       "    <tr>\n",
       "      <th>0</th>\n",
       "      <td>2020-11-07 17:45:50+05:30</td>\n",
       "      <td>00:15:58</td>\n",
       "      <td>A Suitable Boy: Limited Series: Episode 1</td>\n",
       "    </tr>\n",
       "  </tbody>\n",
       "</table>\n",
       "</div>"
      ],
      "text/plain": [
       "                 Start Time  Duration  \\\n",
       "0 2020-11-07 17:45:50+05:30  00:15:58   \n",
       "\n",
       "                                       Title  \n",
       "0  A Suitable Boy: Limited Series: Episode 1  "
      ]
     },
     "execution_count": 130,
     "metadata": {},
     "output_type": "execute_result"
    }
   ],
   "source": [
    "netflix_data.head(1)"
   ]
  },
  {
   "cell_type": "code",
   "execution_count": 131,
   "metadata": {},
   "outputs": [
    {
     "data": {
      "text/plain": [
       "Start Time    datetime64[ns, Asia/Calcutta]\n",
       "Duration                    timedelta64[ns]\n",
       "Title                                object\n",
       "dtype: object"
      ]
     },
     "execution_count": 131,
     "metadata": {},
     "output_type": "execute_result"
    }
   ],
   "source": [
    "netflix_data['Duration'] = pd.to_timedelta(netflix_data['Duration'])\n",
    "netflix_data.dtypes"
   ]
  },
  {
   "cell_type": "code",
   "execution_count": 132,
   "metadata": {},
   "outputs": [
    {
     "data": {
      "text/plain": [
       "0               A Suitable Boy: Limited Series: Episode 1\n",
       "1               A Suitable Boy: Limited Series: Episode 1\n",
       "2               A Suitable Boy: Limited Series: Episode 1\n",
       "3         The 100: Season 7: Welcome to Bardo (Episode 5)\n",
       "4               The 100: Season 7: Hesperides (Episode 4)\n",
       "                              ...                        \n",
       "2538    HIDDEN TITLE: The Big Bang Theory: Season 3: T...\n",
       "2539    HIDDEN TITLE: The Big Bang Theory: Season 3: T...\n",
       "2540    HIDDEN TITLE: The Big Bang Theory: Season 3: T...\n",
       "2541    HIDDEN TITLE: The Big Bang Theory: Season 3: T...\n",
       "2542    HIDDEN TITLE: The Big Bang Theory: Season 3: T...\n",
       "Name: Title, Length: 2543, dtype: object"
      ]
     },
     "execution_count": 132,
     "metadata": {},
     "output_type": "execute_result"
    }
   ],
   "source": [
    "netflix_data['Title']"
   ]
  },
  {
   "cell_type": "code",
   "execution_count": 133,
   "metadata": {},
   "outputs": [],
   "source": [
    "BBT = netflix_data[netflix_data['Title'].str.contains('The Big Bang Theory',regex=False)]"
   ]
  },
  {
   "cell_type": "code",
   "execution_count": 134,
   "metadata": {},
   "outputs": [
    {
     "data": {
      "text/html": [
       "<div>\n",
       "<style scoped>\n",
       "    .dataframe tbody tr th:only-of-type {\n",
       "        vertical-align: middle;\n",
       "    }\n",
       "\n",
       "    .dataframe tbody tr th {\n",
       "        vertical-align: top;\n",
       "    }\n",
       "\n",
       "    .dataframe thead th {\n",
       "        text-align: right;\n",
       "    }\n",
       "</style>\n",
       "<table border=\"1\" class=\"dataframe\">\n",
       "  <thead>\n",
       "    <tr style=\"text-align: right;\">\n",
       "      <th></th>\n",
       "      <th>Start Time</th>\n",
       "      <th>Duration</th>\n",
       "      <th>Title</th>\n",
       "    </tr>\n",
       "  </thead>\n",
       "  <tbody>\n",
       "    <tr>\n",
       "      <th>33</th>\n",
       "      <td>2020-11-04 22:35:39+05:30</td>\n",
       "      <td>00:08:45</td>\n",
       "      <td>The Big Bang Theory: Season 2: The Hofstadter ...</td>\n",
       "    </tr>\n",
       "    <tr>\n",
       "      <th>34</th>\n",
       "      <td>2020-11-03 22:28:42+05:30</td>\n",
       "      <td>00:00:26</td>\n",
       "      <td>The Big Bang Theory: Season 2: The Hofstadter ...</td>\n",
       "    </tr>\n",
       "    <tr>\n",
       "      <th>35</th>\n",
       "      <td>2020-11-03 22:09:25+05:30</td>\n",
       "      <td>00:19:14</td>\n",
       "      <td>The Big Bang Theory: Season 2: The Dead Hooker...</td>\n",
       "    </tr>\n",
       "    <tr>\n",
       "      <th>73</th>\n",
       "      <td>2020-10-29 22:39:54+05:30</td>\n",
       "      <td>00:00:04</td>\n",
       "      <td>The Big Bang Theory: Season 2: The Dead Hooker...</td>\n",
       "    </tr>\n",
       "    <tr>\n",
       "      <th>74</th>\n",
       "      <td>2020-10-29 22:25:47+05:30</td>\n",
       "      <td>00:14:05</td>\n",
       "      <td>The Big Bang Theory: Season 2: The Work Song N...</td>\n",
       "    </tr>\n",
       "  </tbody>\n",
       "</table>\n",
       "</div>"
      ],
      "text/plain": [
       "                  Start Time Duration  \\\n",
       "33 2020-11-04 22:35:39+05:30 00:08:45   \n",
       "34 2020-11-03 22:28:42+05:30 00:00:26   \n",
       "35 2020-11-03 22:09:25+05:30 00:19:14   \n",
       "73 2020-10-29 22:39:54+05:30 00:00:04   \n",
       "74 2020-10-29 22:25:47+05:30 00:14:05   \n",
       "\n",
       "                                                Title  \n",
       "33  The Big Bang Theory: Season 2: The Hofstadter ...  \n",
       "34  The Big Bang Theory: Season 2: The Hofstadter ...  \n",
       "35  The Big Bang Theory: Season 2: The Dead Hooker...  \n",
       "73  The Big Bang Theory: Season 2: The Dead Hooker...  \n",
       "74  The Big Bang Theory: Season 2: The Work Song N...  "
      ]
     },
     "execution_count": 134,
     "metadata": {},
     "output_type": "execute_result"
    }
   ],
   "source": [
    "BBT.head()"
   ]
  },
  {
   "cell_type": "code",
   "execution_count": 135,
   "metadata": {},
   "outputs": [
    {
     "data": {
      "text/plain": [
       "(767, 3)"
      ]
     },
     "execution_count": 135,
     "metadata": {},
     "output_type": "execute_result"
    }
   ],
   "source": [
    "BBT.shape"
   ]
  },
  {
   "cell_type": "code",
   "execution_count": 136,
   "metadata": {},
   "outputs": [
    {
     "data": {
      "text/plain": [
       "(564, 3)"
      ]
     },
     "execution_count": 136,
     "metadata": {},
     "output_type": "execute_result"
    }
   ],
   "source": [
    "BBT = BBT[(BBT['Duration'] > '0 days 00:01:00')]\n",
    "BBT.shape"
   ]
  },
  {
   "cell_type": "code",
   "execution_count": 137,
   "metadata": {},
   "outputs": [
    {
     "data": {
      "text/plain": [
       "Timedelta('4 days 06:02:08')"
      ]
     },
     "execution_count": 137,
     "metadata": {},
     "output_type": "execute_result"
    }
   ],
   "source": [
    "BBT['Duration'].sum()"
   ]
  },
  {
   "cell_type": "code",
   "execution_count": 138,
   "metadata": {},
   "outputs": [],
   "source": [
    "BBT['weekday'] = BBT['Start Time'].dt.weekday\n",
    "BBT['hour'] = BBT['Start Time'].dt.hour"
   ]
  },
  {
   "cell_type": "code",
   "execution_count": 139,
   "metadata": {},
   "outputs": [
    {
     "data": {
      "text/html": [
       "<div>\n",
       "<style scoped>\n",
       "    .dataframe tbody tr th:only-of-type {\n",
       "        vertical-align: middle;\n",
       "    }\n",
       "\n",
       "    .dataframe tbody tr th {\n",
       "        vertical-align: top;\n",
       "    }\n",
       "\n",
       "    .dataframe thead th {\n",
       "        text-align: right;\n",
       "    }\n",
       "</style>\n",
       "<table border=\"1\" class=\"dataframe\">\n",
       "  <thead>\n",
       "    <tr style=\"text-align: right;\">\n",
       "      <th></th>\n",
       "      <th>Start Time</th>\n",
       "      <th>Duration</th>\n",
       "      <th>Title</th>\n",
       "      <th>weekday</th>\n",
       "      <th>hour</th>\n",
       "    </tr>\n",
       "  </thead>\n",
       "  <tbody>\n",
       "    <tr>\n",
       "      <th>33</th>\n",
       "      <td>2020-11-04 22:35:39+05:30</td>\n",
       "      <td>00:08:45</td>\n",
       "      <td>The Big Bang Theory: Season 2: The Hofstadter ...</td>\n",
       "      <td>2</td>\n",
       "      <td>22</td>\n",
       "    </tr>\n",
       "    <tr>\n",
       "      <th>35</th>\n",
       "      <td>2020-11-03 22:09:25+05:30</td>\n",
       "      <td>00:19:14</td>\n",
       "      <td>The Big Bang Theory: Season 2: The Dead Hooker...</td>\n",
       "      <td>1</td>\n",
       "      <td>22</td>\n",
       "    </tr>\n",
       "    <tr>\n",
       "      <th>74</th>\n",
       "      <td>2020-10-29 22:25:47+05:30</td>\n",
       "      <td>00:14:05</td>\n",
       "      <td>The Big Bang Theory: Season 2: The Work Song N...</td>\n",
       "      <td>3</td>\n",
       "      <td>22</td>\n",
       "    </tr>\n",
       "    <tr>\n",
       "      <th>217</th>\n",
       "      <td>2020-10-20 23:42:08+05:30</td>\n",
       "      <td>00:05:22</td>\n",
       "      <td>The Big Bang Theory: Season 2: The Work Song N...</td>\n",
       "      <td>1</td>\n",
       "      <td>23</td>\n",
       "    </tr>\n",
       "    <tr>\n",
       "      <th>218</th>\n",
       "      <td>2020-10-20 23:38:42+05:30</td>\n",
       "      <td>00:03:23</td>\n",
       "      <td>The Big Bang Theory: Season 2: The Terminator ...</td>\n",
       "      <td>1</td>\n",
       "      <td>23</td>\n",
       "    </tr>\n",
       "  </tbody>\n",
       "</table>\n",
       "</div>"
      ],
      "text/plain": [
       "                   Start Time Duration  \\\n",
       "33  2020-11-04 22:35:39+05:30 00:08:45   \n",
       "35  2020-11-03 22:09:25+05:30 00:19:14   \n",
       "74  2020-10-29 22:25:47+05:30 00:14:05   \n",
       "217 2020-10-20 23:42:08+05:30 00:05:22   \n",
       "218 2020-10-20 23:38:42+05:30 00:03:23   \n",
       "\n",
       "                                                 Title  weekday  hour  \n",
       "33   The Big Bang Theory: Season 2: The Hofstadter ...        2    22  \n",
       "35   The Big Bang Theory: Season 2: The Dead Hooker...        1    22  \n",
       "74   The Big Bang Theory: Season 2: The Work Song N...        3    22  \n",
       "217  The Big Bang Theory: Season 2: The Work Song N...        1    23  \n",
       "218  The Big Bang Theory: Season 2: The Terminator ...        1    23  "
      ]
     },
     "execution_count": 139,
     "metadata": {},
     "output_type": "execute_result"
    }
   ],
   "source": [
    "BBT.head()"
   ]
  },
  {
   "cell_type": "code",
   "execution_count": 140,
   "metadata": {},
   "outputs": [],
   "source": [
    "import matplotlib.pyplot\n",
    "%matplotlib inline"
   ]
  },
  {
   "cell_type": "code",
   "execution_count": 141,
   "metadata": {},
   "outputs": [
    {
     "data": {
      "text/plain": [
       "<matplotlib.axes._subplots.AxesSubplot at 0x713446fd30>"
      ]
     },
     "execution_count": 141,
     "metadata": {},
     "output_type": "execute_result"
    },
    {
     "data": {
      "image/png": "[encoded data removed]",
      "text/plain": [
       "<Figure size 1440x720 with 1 Axes>"
      ]
     },
     "metadata": {
      "needs_background": "light"
     },
     "output_type": "display_data"
    }
   ],
   "source": [
    "BBT['weekday'] = pd.Categorical(BBT['weekday'],categories=[0,1,2,3,4,5,6],ordered=True)\n",
    "BBT_by_day = BBT['weekday'].value_counts()\n",
    "BBT_by_day = BBT_by_day.sort_index()\n",
    "matplotlib.rcParams.update({'font.size':22})\n",
    "BBT_by_day.plot(kind='bar',figsize=(20,10),title='BBT Episodes watched by day')"
   ]
  },
  {
   "cell_type": "code",
   "execution_count": 142,
   "metadata": {},
   "outputs": [
    {
     "data": {
      "text/plain": [
       "<matplotlib.axes._subplots.AxesSubplot at 0x7137ccf940>"
      ]
     },
     "execution_count": 142,
     "metadata": {},
     "output_type": "execute_result"
    },
    {
     "data": {
      "image/png": "[encoded data removed]",
      "text/plain": [
       "<Figure size 1440x720 with 1 Axes>"
      ]
     },
     "metadata": {
      "needs_background": "light"
     },
     "output_type": "display_data"
    }
   ],
   "source": [
    "BBT['hour'] = pd.Categorical(BBT['hour'],categories=[0,1,2,3,4,5,6,7,8,9,10,11,12,13,14,15,16,17,18,19,20,21,22,23],ordered=True)\n",
    "BBT_by_hour = BBT['hour'].value_counts()\n",
    "BBT_by_hour = BBT_by_hour.sort_index()\n",
    "matplotlib.rcParams.update({'font.size':22})\n",
    "BBT_by_hour.plot(kind='bar',figsize=(20,10),title='BBT Episodes watched by hour')"
   ]
  },
  {
   "cell_type": "code",
   "execution_count": 143,
   "metadata": {},
   "outputs": [],
   "source": [
    "import matplotlib.pyplot as plt\n",
    "%matplotlib inline"
   ]
  },
  {
   "cell_type": "code",
   "execution_count": 145,
   "metadata": {},
   "outputs": [],
   "source": [
    "import seaborn as sns"
   ]
  },
  {
   "cell_type": "code",
   "execution_count": 155,
   "metadata": {},
   "outputs": [
    {
     "data": {
      "text/plain": [
       "Text(0.5, 1.0, 'episodes watched by weekday')"
      ]
     },
     "execution_count": 155,
     "metadata": {},
     "output_type": "execute_result"
    },
    {
     "data": {
      "image/png": "[encoded data removed]",
      "text/plain": [
       "<Figure size 432x288 with 1 Axes>"
      ]
     },
     "metadata": {
      "needs_background": "light"
     },
     "output_type": "display_data"
    }
   ],
   "source": [
    "sns.countplot(x='weekday',data=BBT,color='blue',alpha=0.3)\n",
    "plt.title('episodes watched by weekday')"
   ]
  },
  {
   "cell_type": "code",
   "execution_count": 159,
   "metadata": {},
   "outputs": [
    {
     "data": {
      "text/plain": [
       "Text(0.5, 1.0, 'episodes watched by hour')"
      ]
     },
     "execution_count": 159,
     "metadata": {},
     "output_type": "execute_result"
    },
    {
     "data": {
      "image/png": "[encoded data removed]",
      "text/plain": [
       "<Figure size 432x288 with 1 Axes>"
      ]
     },
     "metadata": {
      "needs_background": "light"
     },
     "output_type": "display_data"
    }
   ],
   "source": [
    "sns.countplot(x='hour',data=BBT,color='blue',alpha=0.3)\n",
    "plt.title('episodes watched by hour')"
   ]
  },
  {
   "cell_type": "code",
   "execution_count": null,
   "metadata": {},
   "outputs": [],
   "source": []
  }
 ],
 "metadata": {
  "kernelspec": {
   "display_name": "Python 3",
   "language": "python",
   "name": "python3"
  },
  "language_info": {
   "codemirror_mode": {
    "name": "ipython",
    "version": 3
   },
   "file_extension": ".py",
   "mimetype": "text/x-python",
   "name": "python",
   "nbconvert_exporter": "python",
   "pygments_lexer": "ipython3",
   "version": "3.8.3"
  }
 },
 "nbformat": 4,
 "nbformat_minor": 4
}
